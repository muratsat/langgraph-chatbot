{
 "cells": [
  {
   "cell_type": "code",
   "execution_count": 15,
   "metadata": {},
   "outputs": [],
   "source": [
    "from typing import Literal\n",
    "from langgraph.graph import START, END, MessagesState, StateGraph\n",
    "from langchain_openai import ChatOpenAI\n",
    "from langgraph.prebuilt import ToolNode\n",
    "from langgraph.checkpoint.memory import MemorySaver\n",
    "from langchain_core.messages import HumanMessage\n",
    "from pydantic import BaseModel, Field\n",
    "# from langchain_core.pydantic_v1 import BaseModel, Field\n",
    "from tools import search_tool, web_search_tool\n",
    "\n",
    "tools = [search_tool, web_search_tool]\n",
    "model = ChatOpenAI(model=\"gpt-4o\").bind_tools(tools)\n",
    "tools_node = ToolNode(tools=tools)\n",
    "\n",
    "class WhatsappResponse(BaseModel):\n",
    "    \"\"\" Response to the user with this \"\"\"\n",
    "    content: str = Field(description=\"The content of the whatsapp message\")\n",
    "    language: Literal[\"en\", \"ru\", \"ky\"] = Field(description=\"The language of the whatsapp message. en is for English, ru is for Russian, and ky is for Kyrgyz\")\n",
    "\n",
    "model_with_structured_output = ChatOpenAI(model=\"gpt-4o\").with_structured_output(WhatsappResponse)\n",
    "\n",
    "class AgentState(MessagesState):\n",
    "    final_response: WhatsappResponse\n",
    "\n",
    "\n",
    "def llm_node(state: AgentState):\n",
    "    messages = state[\"messages\"]\n",
    "    response = model.invoke(messages)\n",
    "    return { \"messages\": [response] }\n",
    "\n",
    "\n",
    "def respond(state: AgentState):\n",
    "    response = model_with_structured_output.invoke(\n",
    "        [HumanMessage(content=state[\"messages\"][-2].content)]\n",
    "    )\n",
    "    print(HumanMessage(content=state[\"messages\"][-1].content))\n",
    "    # We return the final answer\n",
    "    return {\"final_response\": response}\n",
    "\n",
    "\n",
    "def should_continue(state: AgentState) -> Literal[\"tools\", END]:\n",
    "    messages = state['messages']\n",
    "    last_message = messages[-1]\n",
    "    # If the LLM makes a tool call, then we route to the \"tools\" node\n",
    "    if last_message.tool_calls:\n",
    "        return \"tools\"\n",
    "    # Otherwise, we stop (reply to the user)\n",
    "    return \"respond\"\n",
    "\n",
    "\n",
    "graph_builder = StateGraph(MessagesState)\n",
    "\n",
    "graph_builder.add_node(\"llm\", llm_node)\n",
    "graph_builder.add_node(\"tools\", tools_node)\n",
    "graph_builder.add_node(\"respond\", respond)\n",
    "\n",
    "graph_builder.add_edge(START, \"llm\")\n",
    "graph_builder.add_conditional_edges(\"llm\", should_continue, {\n",
    "    \"tools\": \"tools\",\n",
    "    \"respond\": \"respond\"\n",
    "})\n",
    "graph_builder.add_edge(\"tools\", \"llm\")\n",
    "graph_builder.add_edge(\"respond\", END)\n",
    "\n",
    "\n",
    "memory = MemorySaver()\n",
    "\n",
    "graph = graph_builder.compile(checkpointer=memory)\n"
   ]
  },
  {
   "cell_type": "code",
   "execution_count": 18,
   "metadata": {},
   "outputs": [
    {
     "data": {
      "image/png": "[encoded data removed]",
      "text/plain": [
       "<IPython.core.display.Image object>"
      ]
     },
     "metadata": {},
     "output_type": "display_data"
    }
   ],
   "source": [
    "from IPython.display import Image, display\n",
    "\n",
    "try:\n",
    "    display(Image(graph.get_graph().draw_mermaid_png()))\n",
    "except Exception:\n",
    "    # This requires some extra dependencies and is optional\n",
    "    pass"
   ]
  }
 ],
 "metadata": {
  "kernelspec": {
   "display_name": ".venv",
   "language": "python",
   "name": "python3"
  },
  "language_info": {
   "codemirror_mode": {
    "name": "ipython",
    "version": 3
   },
   "file_extension": ".py",
   "mimetype": "text/x-python",
   "name": "python",
   "nbconvert_exporter": "python",
   "pygments_lexer": "ipython3",
   "version": "3.11.10"
  }
 },
 "nbformat": 4,
 "nbformat_minor": 2
}
